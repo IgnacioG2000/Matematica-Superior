{
 "cells": [
  {
   "cell_type": "code",
   "execution_count": 1,
   "metadata": {
    "collapsed": true
   },
   "outputs": [],
   "source": [
    "def suma_complejos(complejo_1, complejo_2):\n",
    "    return complejo_1 + complejo_2"
   ]
  },
  {
   "cell_type": "code",
   "execution_count": null,
   "outputs": [],
   "source": [
    "def resta_complejos(complejo_1, complejo_2):\n",
    "    return complejo_1 - complejo_2"
   ],
   "metadata": {
    "collapsed": false
   }
  },
  {
   "cell_type": "code",
   "execution_count": null,
   "outputs": [],
   "source": [
    "def multiplicacion(complejo_1, complejo_2):\n",
    "    return complejo_1 * complejo_2"
   ],
   "metadata": {
    "collapsed": false
   }
  },
  {
   "cell_type": "code",
   "execution_count": null,
   "outputs": [],
   "source": [
    "def division(complejo_1, complejo_2):\n",
    "    if complejo_2 != 0j:\n",
    "        return complejo_1 / complejo_2\n",
    "    else:\n",
    "        raise ZeroDivisionError(\"Estas dividiendo por 0\")"
   ],
   "metadata": {
    "collapsed": false
   }
  },
  {
   "cell_type": "code",
   "execution_count": null,
   "outputs": [],
   "source": [
    "def potencia(complejo, exponente):\n",
    "    if exponente >= 0:\n",
    "        return complejo ** exponente"
   ],
   "metadata": {
    "collapsed": false
   }
  }
 ],
 "metadata": {
  "kernelspec": {
   "display_name": "Python 3",
   "language": "python",
   "name": "python3"
  },
  "language_info": {
   "codemirror_mode": {
    "name": "ipython",
    "version": 2
   },
   "file_extension": ".py",
   "mimetype": "text/x-python",
   "name": "python",
   "nbconvert_exporter": "python",
   "pygments_lexer": "ipython2",
   "version": "2.7.6"
  }
 },
 "nbformat": 4,
 "nbformat_minor": 0
}
