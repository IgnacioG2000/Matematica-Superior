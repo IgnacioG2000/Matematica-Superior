{
 "cells": [
  {
   "cell_type": "code",
   "execution_count": 11,
   "id": "f0f467c6-9eaa-4771-8742-1fdb4ac3cc0b",
   "metadata": {},
   "outputs": [],
   "source": [
    "import sympy as smp\n",
    "from sympy.abc import s,t,x,y,z\n",
    "from sympy.integrals import laplace_transform\n",
    "from sympy.integrals import inverse_laplace_transform\n",
    "from sympy import Eq, solve\n",
    "from sympy import symbols, Function\n",
    "import math"
   ]
  },
  {
   "cell_type": "markdown",
   "source": [
    "<h1> EJEMPLO DE TRANSFORMADA </h1>"
   ],
   "metadata": {
    "collapsed": false
   }
  },
  {
   "cell_type": "code",
   "execution_count": 20,
   "id": "d7c633b0-a164-4c06-9d49-20a60ccae058",
   "metadata": {},
   "outputs": [
    {
     "data": {
      "text/latex": [
       "$\\displaystyle \\frac{2}{s^{2} + 4}$"
      ],
      "text/plain": [
       "2/(s**2 + 4)"
      ]
     },
     "execution_count": 20,
     "metadata": {},
     "output_type": "execute_result"
    }
   ],
   "source": [
    "U = laplace_transform(smp.sin(2*t),t,s)\n",
    "U[0]"
   ]
  },
  {
   "cell_type": "code",
   "execution_count": 3,
   "id": "2cd466ca-6ce2-4301-9048-789575383f17",
   "metadata": {},
   "outputs": [
    {
     "data": {
      "text/plain": "(s**2 + 2*s + 2)/(s**2 + 3*s + 2)",
      "text/latex": "$\\displaystyle \\frac{s^{2} + 2 s + 2}{s^{2} + 3 s + 2}$"
     },
     "execution_count": 3,
     "metadata": {},
     "output_type": "execute_result"
    }
   ],
   "source": [
    "f = (s ** 2 + 2 * s + 2) / (s ** 2 + 3 * s + 2)\n",
    "f\n",
    "#inversa = inverse_laplace_transform(f, s, t)\n",
    "#print(inversa)"
   ]
  },
  {
   "cell_type": "code",
   "execution_count": 4,
   "outputs": [
    {
     "data": {
      "text/plain": "1 - 2/(s + 2) + 1/(s + 1)",
      "text/latex": "$\\displaystyle 1 - \\frac{2}{s + 2} + \\frac{1}{s + 1}$"
     },
     "execution_count": 4,
     "metadata": {},
     "output_type": "execute_result"
    }
   ],
   "source": [
    "f.apart(s)"
   ],
   "metadata": {
    "collapsed": false
   }
  },
  {
   "cell_type": "code",
   "execution_count": 31,
   "id": "9e1139c6-8314-4c0c-a941-3140561ecab6",
   "metadata": {},
   "outputs": [
    {
     "data": {
      "text/latex": [
       "$\\displaystyle \\delta\\left(t\\right) + e^{- t} \\theta\\left(t\\right) - 2 e^{- 2 t} \\theta\\left(t\\right)$"
      ],
      "text/plain": [
       "DiracDelta(t) + exp(-t)*Heaviside(t) - 2*exp(-2*t)*Heaviside(t)"
      ]
     },
     "execution_count": 31,
     "metadata": {},
     "output_type": "execute_result"
    }
   ],
   "source": [
    "inversa = inverse_laplace_transform(f, s, t)\n",
    "inversa"
   ]
  },
  {
   "cell_type": "markdown",
   "source": [
    "<h2> Funciones principales </h2>"
   ],
   "metadata": {
    "collapsed": false
   }
  },
  {
   "cell_type": "code",
   "execution_count": 2,
   "outputs": [],
   "source": [
    "def L(f):\n",
    "    return laplace_transform(f, t, s, noconds=True)\n",
    "\n",
    "\n",
    "def inv_L(F):\n",
    "    return inverse_laplace_transform(F, s, t, noconds=True)\n",
    "\n",
    "\n",
    "def L_diff(f, f0, fp0, fpp0=0, n=1):  # esta función es para calcular transformadas de derivadas\n",
    "    \"\"\"\n",
    "    input:\n",
    "    f es una variable simbólica de sympy que representa a la función f(t) a la que se quiere calcular\n",
    "      la transformada de alguna de sus derivadas.\n",
    "\n",
    "    n puede asumir los valores de 0,1,2,3 y representa el orden de la derivada de la función f(t)\n",
    "    \"\"\"\n",
    "    F = str(f).upper().split('(')[0]\n",
    "    F = symbols(F)\n",
    "    F = Function(F)(s)\n",
    "    if n == 0:\n",
    "        L = F\n",
    "    elif n == 1:\n",
    "        L = s * F - f0\n",
    "    elif n == 2:\n",
    "        L = s ** 2 * F - s * f0 - fp0\n",
    "    elif n == 3:\n",
    "        L = s ** 3 * F - s ** 2 * f0, -s * fp0 - fpp0\n",
    "    return L"
   ],
   "metadata": {
    "collapsed": false
   }
  },
  {
   "cell_type": "markdown",
   "source": [
    "<h1>EJERCITACION: Transformada de Laplace</h1>\n",
    "<h2>Transformada directa de Laplace</h2>"
   ],
   "metadata": {
    "collapsed": false
   }
  },
  {
   "cell_type": "code",
   "execution_count": 6,
   "outputs": [
    {
     "data": {
      "text/plain": "(3*s**3 + 5*s**2 - 4*s + 6)/s**4",
      "text/latex": "$\\displaystyle \\frac{3 s^{3} + 5 s^{2} - 4 s + 6}{s^{4}}$"
     },
     "execution_count": 6,
     "metadata": {},
     "output_type": "execute_result"
    }
   ],
   "source": [
    "#1a\n",
    "# y(t) = 3 + 5t - 2t^2 + t^3\n",
    "\n",
    "transformada = L(3 + 5 * t - 2 * t ** 2 + t ** 3)\n",
    "transformada"
   ],
   "metadata": {
    "collapsed": false
   }
  },
  {
   "cell_type": "code",
   "execution_count": 15,
   "outputs": [
    {
     "data": {
      "text/plain": "1.0/(s*(s - 4))",
      "text/latex": "$\\displaystyle \\frac{1.0}{s \\left(s - 4\\right)}$"
     },
     "execution_count": 15,
     "metadata": {},
     "output_type": "execute_result"
    }
   ],
   "source": [
    "#1b\n",
    "# y(t) = 1/4 * (e^4t - 1)\n",
    "\n",
    "transformada = L(1 / 4 * (smp.exp(4 * t) - 1))\n",
    "transformada"
   ],
   "metadata": {
    "collapsed": false
   }
  },
  {
   "cell_type": "code",
   "execution_count": null,
   "outputs": [],
   "source": [
    "#1c\n",
    "# y(t) = \n",
    "\n",
    "transformada = L(3 + 5 * t - 2 * t ** 2 + t ** 3)\n",
    "transformada"
   ],
   "metadata": {
    "collapsed": false
   }
  },
  {
   "cell_type": "code",
   "execution_count": null,
   "outputs": [],
   "source": [
    "#1a\n",
    "# y(t) = 3 + 5t - 2t^2 + t^3\n",
    "\n",
    "transformada = L(3 + 5 * t - 2 * t ** 2 + t ** 3)\n",
    "transformada"
   ],
   "metadata": {
    "collapsed": false
   }
  },
  {
   "cell_type": "markdown",
   "source": [
    "<h5>Ejemplo de Ecuacion Diferencial </h5>"
   ],
   "metadata": {
    "collapsed": false
   }
  },
  {
   "cell_type": "code",
   "execution_count": 10,
   "outputs": [
    {
     "data": {
      "text/plain": "Eq(2*s**2*X(s) + 7*s*X(s) + 3*X(s), 6/s)",
      "text/latex": "$\\displaystyle 2 s^{2} X{\\left(s \\right)} + 7 s X{\\left(s \\right)} + 3 X{\\left(s \\right)} = \\frac{6}{s}$"
     },
     "metadata": {},
     "output_type": "display_data"
    }
   ],
   "source": [
    "#Ejercicio 8A\n",
    "ec = Eq(2 * L_diff(x, 0, 0, 0, 2) + 7 * L_diff(x, 0, 0) + 3 * L_diff(x,0,0,0,0), L(6))\n",
    "display(ec)"
   ],
   "metadata": {
    "collapsed": false
   }
  },
  {
   "cell_type": "code",
   "execution_count": 12,
   "outputs": [
    {
     "ename": "NameError",
     "evalue": "name 'X' is not defined",
     "output_type": "error",
     "traceback": [
      "\u001B[1;31m---------------------------------------------------------------------------\u001B[0m",
      "\u001B[1;31mNameError\u001B[0m                                 Traceback (most recent call last)",
      "Cell \u001B[1;32mIn[12], line 1\u001B[0m\n\u001B[1;32m----> 1\u001B[0m solucion \u001B[38;5;241m=\u001B[39m solve(ec, \u001B[43mX\u001B[49m)\n",
      "\u001B[1;31mNameError\u001B[0m: name 'X' is not defined"
     ]
    }
   ],
   "source": [
    "#solucion = solve(ec, X)"
   ],
   "metadata": {
    "collapsed": false
   }
  },
  {
   "cell_type": "code",
   "execution_count": null,
   "outputs": [],
   "source": [],
   "metadata": {
    "collapsed": false
   }
  }
 ],
 "metadata": {
  "kernelspec": {
   "display_name": "Python 3 (ipykernel)",
   "language": "python",
   "name": "python3"
  },
  "language_info": {
   "codemirror_mode": {
    "name": "ipython",
    "version": 3
   },
   "file_extension": ".py",
   "mimetype": "text/x-python",
   "name": "python",
   "nbconvert_exporter": "python",
   "pygments_lexer": "ipython3",
   "version": "3.11.1"
  }
 },
 "nbformat": 4,
 "nbformat_minor": 5
}
