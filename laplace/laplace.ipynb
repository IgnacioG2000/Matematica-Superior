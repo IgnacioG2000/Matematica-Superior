{
 "cells": [
  {
   "cell_type": "code",
   "execution_count": null,
   "id": "f0f467c6-9eaa-4771-8742-1fdb4ac3cc0b",
   "metadata": {},
   "outputs": [],
   "source": [
    "import sympy as smp\n",
    "from sympy.abc import s,t,x,a\n",
    "from sympy.integrals import laplace_transform\n",
    "from sympy.integrals import inverse_laplace_transform\n",
    "from sympy import Eq\n",
    "from sympy import symbols, Function"
   ]
  },
  {
   "cell_type": "markdown",
   "source": [
    "<h1> EJEMPLO DE TRANSFORMADA </h1>"
   ],
   "metadata": {
    "collapsed": false
   }
  },
  {
   "cell_type": "code",
   "execution_count": null,
   "id": "d7c633b0-a164-4c06-9d49-20a60ccae058",
   "metadata": {},
   "outputs": [],
   "source": [
    "U = laplace_transform(smp.sin(2*t),t,s)\n",
    "U[0]"
   ]
  },
  {
   "cell_type": "code",
   "execution_count": null,
   "id": "2cd466ca-6ce2-4301-9048-789575383f17",
   "metadata": {},
   "outputs": [],
   "source": [
    "f = (s ** 2 + 2 * s + 2) / (s ** 2 + 3 * s + 2)\n",
    "f\n",
    "#inversa = inverse_laplace_transform(f, s, t)\n",
    "#print(inversa)"
   ]
  },
  {
   "cell_type": "code",
   "execution_count": null,
   "outputs": [],
   "source": [
    "f.apart(s)"
   ],
   "metadata": {
    "collapsed": false
   }
  },
  {
   "cell_type": "code",
   "execution_count": null,
   "id": "9e1139c6-8314-4c0c-a941-3140561ecab6",
   "metadata": {},
   "outputs": [],
   "source": [
    "inversa = inverse_laplace_transform(f, s, t)\n",
    "inversa"
   ]
  },
  {
   "cell_type": "markdown",
   "source": [
    "<h2> Funciones principales </h2>"
   ],
   "metadata": {
    "collapsed": false
   }
  },
  {
   "cell_type": "code",
   "execution_count": null,
   "outputs": [],
   "source": [
    "def L(f):\n",
    "    return laplace_transform(f, t, s, noconds=True)\n",
    "\n",
    "\n",
    "def inv_L(F):\n",
    "    return inverse_laplace_transform(F, s, t, noconds=True)\n",
    "\n",
    "\n",
    "def L_diff(f, f0, fp0, fpp0=0, n=1):  # esta función es para calcular transformadas de derivadas\n",
    "    \"\"\"\n",
    "    input:\n",
    "    f es una variable simbólica de sympy que representa a la función f(t) a la que se quiere calcular\n",
    "      la transformada de alguna de sus derivadas.\n",
    "\n",
    "    n puede asumir los valores de 0,1,2,3 y representa el orden de la derivada de la función f(t)\n",
    "    \"\"\"\n",
    "    F = str(f).upper().split('(')[0]\n",
    "    F = symbols(F)\n",
    "    F = Function(F)(s)\n",
    "    if n == 0:\n",
    "        L = F\n",
    "    elif n == 1:\n",
    "        L = s * F - f0\n",
    "    elif n == 2:\n",
    "        L = s ** 2 * F - s * f0 - fp0\n",
    "    elif n == 3:\n",
    "        L = s ** 3 * F - s ** 2 * f0, -s * fp0 - fpp0\n",
    "    return L"
   ],
   "metadata": {
    "collapsed": false
   }
  },
  {
   "cell_type": "markdown",
   "source": [
    "<h1>EJERCITACION: Transformada de Laplace</h1>\n",
    "<h2>Transformada directa de Laplace</h2>"
   ],
   "metadata": {
    "collapsed": false
   }
  },
  {
   "cell_type": "code",
   "execution_count": null,
   "outputs": [],
   "source": [
    "#1a\n",
    "# y(t) = 3 + 5t - 2t^2 + t^3\n",
    "\n",
    "transformada = L(3 + 5 * t - 2 * t ** 2 + t ** 3)\n",
    "transformada"
   ],
   "metadata": {
    "collapsed": false
   }
  },
  {
   "cell_type": "code",
   "execution_count": null,
   "outputs": [],
   "source": [
    "#1b\n",
    "# y(t) = 1/4 * (e^4t - 1)\n",
    "\n",
    "transformada = L(1 / 4 * (smp.exp(4 * t) - 1))\n",
    "transformada"
   ],
   "metadata": {
    "collapsed": false
   }
  },
  {
   "cell_type": "code",
   "execution_count": null,
   "outputs": [],
   "source": [
    "#1c\n",
    "# y(t) = 1 / a^2 * (e ^ at - a * t - 1)\n",
    "\n",
    "transformada = L(1 / a ** 2 * (smp.exp(a * t) - a * t - 1))\n",
    "transformada"
   ],
   "metadata": {
    "collapsed": false
   }
  },
  {
   "cell_type": "code",
   "execution_count": null,
   "outputs": [],
   "source": [
    "#1d\n",
    "# y(t) = 4cos(3t) - 5sen(2t)\n",
    "\n",
    "transformada = L(4 * smp.cos(3 * t) - 5 * smp.sin(2 * t))\n",
    "transformada"
   ],
   "metadata": {
    "collapsed": false
   }
  },
  {
   "cell_type": "markdown",
   "source": [
    "<h2>Ejercicio 2</h2>"
   ],
   "metadata": {
    "collapsed": false
   }
  },
  {
   "cell_type": "code",
   "execution_count": null,
   "outputs": [],
   "source": [
    "#2a\n",
    "# y(t) = t^2 * e^4t\n",
    "transformada = L(t ** 2 * smp.exp(4 * t))\n",
    "transformada"
   ],
   "metadata": {
    "collapsed": false
   }
  },
  {
   "cell_type": "code",
   "execution_count": null,
   "outputs": [],
   "source": [
    "#2b\n",
    "# y(t) = 5 e^-5t cos(3t)\n",
    "transformada = L(5 * smp.exp(-5 * t) * smp.cos(3 * t))\n",
    "transformada"
   ],
   "metadata": {
    "collapsed": false
   }
  },
  {
   "cell_type": "code",
   "execution_count": null,
   "outputs": [],
   "source": [
    "#2c\n",
    "# y(t) = e^-t t sen(2t)\n",
    "transformada = L(smp.exp(-t) * t * smp.sin(2 * t))\n",
    "transformada"
   ],
   "metadata": {
    "collapsed": false
   }
  },
  {
   "cell_type": "code",
   "execution_count": null,
   "outputs": [],
   "source": [
    "#TODO: VER\n",
    "#2d\n",
    "# y(t) = (t - 1)^4\n",
    "transformada = L((t - 1) ** 4)\n",
    "transformada"
   ],
   "metadata": {
    "collapsed": false
   }
  },
  {
   "cell_type": "code",
   "execution_count": null,
   "outputs": [],
   "source": [
    "#2e\n",
    "# y(t) = e^-2t * sen(2t) + t^2 e^3t\n",
    "transformada = L(smp.exp(-2 * t) * smp.sin(2 * t) + t ** 2 * smp.exp(3 * t))\n",
    "transformada"
   ],
   "metadata": {
    "collapsed": false,
    "pycharm": {
     "is_executing": true
    }
   }
  },
  {
   "cell_type": "code",
   "execution_count": 18,
   "outputs": [
    {
     "data": {
      "text/plain": "s/(s**2 + 16) + 4/(s + 1)**3",
      "text/latex": "$\\displaystyle \\frac{s}{s^{2} + 16} + \\frac{4}{\\left(s + 1\\right)^{3}}$"
     },
     "execution_count": 18,
     "metadata": {},
     "output_type": "execute_result"
    }
   ],
   "source": [
    "#2f\n",
    "# y(t) = 2t^2 e^-t - t + cos(4t)\n",
    "transformada = L(2 * t ** 2 * smp.exp(-t) + smp.cos(4 * t))\n",
    "transformada"
   ],
   "metadata": {
    "collapsed": false
   }
  },
  {
   "cell_type": "markdown",
   "source": [
    "<h5>Ejemplo de Ecuacion Diferencial </h5>"
   ],
   "metadata": {
    "collapsed": false
   }
  },
  {
   "cell_type": "code",
   "execution_count": null,
   "outputs": [],
   "source": [
    "#Ejercicio 8A\n",
    "ec = Eq(2 * L_diff(x, 0, 0, 0, 2) + 7 * L_diff(x, 0, 0) + 3 * L_diff(x,0,0,0,0), L(6))\n",
    "display(ec)"
   ],
   "metadata": {
    "collapsed": false
   }
  },
  {
   "cell_type": "code",
   "execution_count": null,
   "outputs": [],
   "source": [
    "#solucion = solve(ec, X)"
   ],
   "metadata": {
    "collapsed": false
   }
  },
  {
   "cell_type": "code",
   "execution_count": null,
   "outputs": [],
   "source": [],
   "metadata": {
    "collapsed": false
   }
  }
 ],
 "metadata": {
  "kernelspec": {
   "display_name": "Python 3 (ipykernel)",
   "language": "python",
   "name": "python3"
  },
  "language_info": {
   "codemirror_mode": {
    "name": "ipython",
    "version": 3
   },
   "file_extension": ".py",
   "mimetype": "text/x-python",
   "name": "python",
   "nbconvert_exporter": "python",
   "pygments_lexer": "ipython3",
   "version": "3.11.1"
  }
 },
 "nbformat": 4,
 "nbformat_minor": 5
}
